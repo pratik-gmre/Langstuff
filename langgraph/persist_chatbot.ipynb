{
 "cells": [
  {
   "cell_type": "code",
   "execution_count": 14,
   "id": "eb131512",
   "metadata": {},
   "outputs": [],
   "source": [
    "from langgraph.graph import StateGraph , START , END\n",
    "from langchain_openai import ChatOpenAI\n",
    "from dotenv import load_dotenv\n",
    "load_dotenv()\n",
    "from typing import TypedDict \n",
    "from langgraph.checkpoint.memory import InMemorySaver"
   ]
  },
  {
   "cell_type": "code",
   "execution_count": 15,
   "id": "a3951b9c",
   "metadata": {},
   "outputs": [],
   "source": [
    "model = ChatOpenAI()"
   ]
  },
  {
   "cell_type": "code",
   "execution_count": 16,
   "id": "df962af5",
   "metadata": {},
   "outputs": [],
   "source": [
    "class JokeState(TypedDict):\n",
    "    topic:str\n",
    "    joke:str\n",
    "    explanation:str"
   ]
  },
  {
   "cell_type": "code",
   "execution_count": null,
   "id": "f965f65f",
   "metadata": {},
   "outputs": [],
   "source": [
    "def joke_node(state:JokeState):\n",
    "    prompt = f'Generate a joke on the topic {state[\"topic\"]}'\n",
    "    response = model.invoke(prompt)\n",
    "    return {'joke':response}"
   ]
  },
  {
   "cell_type": "code",
   "execution_count": 18,
   "id": "f8006cca",
   "metadata": {},
   "outputs": [],
   "source": [
    "def explain_node(state:JokeState):\n",
    "    prompt = f'Explain the joke {state['joke']}'\n",
    "    response = model.invoke(prompt)\n",
    "    return {'explanation':response}"
   ]
  },
  {
   "cell_type": "code",
   "execution_count": null,
   "id": "b3c38911",
   "metadata": {},
   "outputs": [
    {
     "data": {
      "image/png": "[encoded data removed]",
      "text/plain": [
       "<langgraph.graph.state.CompiledStateGraph object at 0x1225e8e10>"
      ]
     },
     "execution_count": 22,
     "metadata": {},
     "output_type": "execute_result"
    }
   ],
   "source": [
    "graph = StateGraph(JokeState)\n",
    "\n",
    "\n",
    "#add node \n",
    "graph.add_node('joke_node',joke_node)\n",
    "graph.add_node('explain_node',explain_node)\n",
    "\n",
    "#add edge\n",
    "graph.add_edge(START , 'joke_node')\n",
    "graph.add_edge('joke_node',  'explain_node')\n",
    "graph.add_edge('explain_node', END)\n",
    "\n",
    " \n",
    "checkpointer = InMemorySaver()   # for persisting the state\n",
    "workflow  = graph.compile(checkpointer=checkpointer)\n",
    "workflow"
   ]
  },
  {
   "cell_type": "code",
   "execution_count": 26,
   "id": "54ca13ae",
   "metadata": {},
   "outputs": [
    {
     "data": {
      "text/plain": [
       "{'topic': 'Nepal',\n",
       " 'joke': AIMessage(content='Why did the mountain in Nepal never get lonely?\\nBecause it had so many peaks to hang out with!', additional_kwargs={'refusal': None}, response_metadata={'token_usage': {'completion_tokens': 21, 'prompt_tokens': 14, 'total_tokens': 35, 'completion_tokens_details': {'accepted_prediction_tokens': 0, 'audio_tokens': 0, 'reasoning_tokens': 0, 'rejected_prediction_tokens': 0}, 'prompt_tokens_details': {'audio_tokens': 0, 'cached_tokens': 0}}, 'model_name': 'gpt-3.5-turbo-0125', 'system_fingerprint': None, 'id': 'chatcmpl-CPSXzhGnZyp2P5Wu0l4jlasT0Npt4', 'service_tier': 'default', 'finish_reason': 'stop', 'logprobs': None}, id='run--df7aa36b-d249-4fec-ad89-60d7cf95c8ac-0', usage_metadata={'input_tokens': 14, 'output_tokens': 21, 'total_tokens': 35, 'input_token_details': {'audio': 0, 'cache_read': 0}, 'output_token_details': {'audio': 0, 'reasoning': 0}}),\n",
       " 'explanation': AIMessage(content='The joke is playing on the idea that mountains have peaks, so the mountain in Nepal wouldn\\'t get lonely because it has so many peaks to keep it company. It\\'s a pun on the word \"peaks,\" which can mean both the top of a mountain and spending time with someone.', additional_kwargs={'refusal': None}, response_metadata={'token_usage': {'completion_tokens': 58, 'prompt_tokens': 290, 'total_tokens': 348, 'completion_tokens_details': {'accepted_prediction_tokens': 0, 'audio_tokens': 0, 'reasoning_tokens': 0, 'rejected_prediction_tokens': 0}, 'prompt_tokens_details': {'audio_tokens': 0, 'cached_tokens': 0}}, 'model_name': 'gpt-3.5-turbo-0125', 'system_fingerprint': None, 'id': 'chatcmpl-CPSY1WKnY7Emxae7t8VoyVLhqbMOd', 'service_tier': 'default', 'finish_reason': 'stop', 'logprobs': None}, id='run--420e889c-a31c-4c78-b986-e46a35a665f4-0', usage_metadata={'input_tokens': 290, 'output_tokens': 58, 'total_tokens': 348, 'input_token_details': {'audio': 0, 'cache_read': 0}, 'output_token_details': {'audio': 0, 'reasoning': 0}})}"
      ]
     },
     "execution_count": 26,
     "metadata": {},
     "output_type": "execute_result"
    }
   ],
   "source": [
    "config = {'configurable':{'thread_id':'1'}}\n",
    "workflow.invoke({'topic':'Nepal'},config=config)"
   ]
  },
  {
   "cell_type": "code",
   "execution_count": null,
   "id": "ee26b0b3",
   "metadata": {},
   "outputs": [
    {
     "data": {
      "text/plain": [
       "StateSnapshot(values={'topic': 'Nepal', 'joke': AIMessage(content='Why did the mountain in Nepal never get lonely?\\nBecause it had so many peaks to hang out with!', additional_kwargs={'refusal': None}, response_metadata={'token_usage': {'completion_tokens': 21, 'prompt_tokens': 14, 'total_tokens': 35, 'completion_tokens_details': {'accepted_prediction_tokens': 0, 'audio_tokens': 0, 'reasoning_tokens': 0, 'rejected_prediction_tokens': 0}, 'prompt_tokens_details': {'audio_tokens': 0, 'cached_tokens': 0}}, 'model_name': 'gpt-3.5-turbo-0125', 'system_fingerprint': None, 'id': 'chatcmpl-CPSXzhGnZyp2P5Wu0l4jlasT0Npt4', 'service_tier': 'default', 'finish_reason': 'stop', 'logprobs': None}, id='run--df7aa36b-d249-4fec-ad89-60d7cf95c8ac-0', usage_metadata={'input_tokens': 14, 'output_tokens': 21, 'total_tokens': 35, 'input_token_details': {'audio': 0, 'cache_read': 0}, 'output_token_details': {'audio': 0, 'reasoning': 0}}), 'explanation': AIMessage(content='The joke is playing on the idea that mountains have peaks, so the mountain in Nepal wouldn\\'t get lonely because it has so many peaks to keep it company. It\\'s a pun on the word \"peaks,\" which can mean both the top of a mountain and spending time with someone.', additional_kwargs={'refusal': None}, response_metadata={'token_usage': {'completion_tokens': 58, 'prompt_tokens': 290, 'total_tokens': 348, 'completion_tokens_details': {'accepted_prediction_tokens': 0, 'audio_tokens': 0, 'reasoning_tokens': 0, 'rejected_prediction_tokens': 0}, 'prompt_tokens_details': {'audio_tokens': 0, 'cached_tokens': 0}}, 'model_name': 'gpt-3.5-turbo-0125', 'system_fingerprint': None, 'id': 'chatcmpl-CPSY1WKnY7Emxae7t8VoyVLhqbMOd', 'service_tier': 'default', 'finish_reason': 'stop', 'logprobs': None}, id='run--420e889c-a31c-4c78-b986-e46a35a665f4-0', usage_metadata={'input_tokens': 290, 'output_tokens': 58, 'total_tokens': 348, 'input_token_details': {'audio': 0, 'cache_read': 0}, 'output_token_details': {'audio': 0, 'reasoning': 0}})}, next=(), config={'configurable': {'thread_id': '1', 'checkpoint_ns': '', 'checkpoint_id': '1f0a699c-0e44-6bf0-8003-2a8415d461b9'}}, metadata={'source': 'loop', 'step': 3, 'parents': {}}, created_at='2025-10-11T11:59:34.487926+00:00', parent_config={'configurable': {'thread_id': '1', 'checkpoint_ns': '', 'checkpoint_id': '1f0a699b-fb13-6fd6-8002-666b91ebf292'}}, tasks=(), interrupts=())"
      ]
     },
     "execution_count": 27,
     "metadata": {},
     "output_type": "execute_result"
    }
   ],
   "source": [
    "workflow.get_state(config=config)     # to get state for respective thread stored in config"
   ]
  },
  {
   "cell_type": "code",
   "execution_count": null,
   "id": "2c87f1c1",
   "metadata": {},
   "outputs": [
    {
     "data": {
      "text/plain": [
       "[StateSnapshot(values={'topic': 'Nepal', 'joke': AIMessage(content='Why did the mountain in Nepal never get lonely?\\nBecause it had so many peaks to hang out with!', additional_kwargs={'refusal': None}, response_metadata={'token_usage': {'completion_tokens': 21, 'prompt_tokens': 14, 'total_tokens': 35, 'completion_tokens_details': {'accepted_prediction_tokens': 0, 'audio_tokens': 0, 'reasoning_tokens': 0, 'rejected_prediction_tokens': 0}, 'prompt_tokens_details': {'audio_tokens': 0, 'cached_tokens': 0}}, 'model_name': 'gpt-3.5-turbo-0125', 'system_fingerprint': None, 'id': 'chatcmpl-CPSXzhGnZyp2P5Wu0l4jlasT0Npt4', 'service_tier': 'default', 'finish_reason': 'stop', 'logprobs': None}, id='run--df7aa36b-d249-4fec-ad89-60d7cf95c8ac-0', usage_metadata={'input_tokens': 14, 'output_tokens': 21, 'total_tokens': 35, 'input_token_details': {'audio': 0, 'cache_read': 0}, 'output_token_details': {'audio': 0, 'reasoning': 0}}), 'explanation': AIMessage(content='The joke is playing on the idea that mountains have peaks, so the mountain in Nepal wouldn\\'t get lonely because it has so many peaks to keep it company. It\\'s a pun on the word \"peaks,\" which can mean both the top of a mountain and spending time with someone.', additional_kwargs={'refusal': None}, response_metadata={'token_usage': {'completion_tokens': 58, 'prompt_tokens': 290, 'total_tokens': 348, 'completion_tokens_details': {'accepted_prediction_tokens': 0, 'audio_tokens': 0, 'reasoning_tokens': 0, 'rejected_prediction_tokens': 0}, 'prompt_tokens_details': {'audio_tokens': 0, 'cached_tokens': 0}}, 'model_name': 'gpt-3.5-turbo-0125', 'system_fingerprint': None, 'id': 'chatcmpl-CPSY1WKnY7Emxae7t8VoyVLhqbMOd', 'service_tier': 'default', 'finish_reason': 'stop', 'logprobs': None}, id='run--420e889c-a31c-4c78-b986-e46a35a665f4-0', usage_metadata={'input_tokens': 290, 'output_tokens': 58, 'total_tokens': 348, 'input_token_details': {'audio': 0, 'cache_read': 0}, 'output_token_details': {'audio': 0, 'reasoning': 0}})}, next=(), config={'configurable': {'thread_id': '1', 'checkpoint_ns': '', 'checkpoint_id': '1f0a699c-0e44-6bf0-8003-2a8415d461b9'}}, metadata={'source': 'loop', 'step': 3, 'parents': {}}, created_at='2025-10-11T11:59:34.487926+00:00', parent_config={'configurable': {'thread_id': '1', 'checkpoint_ns': '', 'checkpoint_id': '1f0a699b-fb13-6fd6-8002-666b91ebf292'}}, tasks=(), interrupts=()),\n",
       " StateSnapshot(values={'topic': 'Nepal', 'joke': AIMessage(content='Why did the mountain in Nepal never get lonely?\\nBecause it had so many peaks to hang out with!', additional_kwargs={'refusal': None}, response_metadata={'token_usage': {'completion_tokens': 21, 'prompt_tokens': 14, 'total_tokens': 35, 'completion_tokens_details': {'accepted_prediction_tokens': 0, 'audio_tokens': 0, 'reasoning_tokens': 0, 'rejected_prediction_tokens': 0}, 'prompt_tokens_details': {'audio_tokens': 0, 'cached_tokens': 0}}, 'model_name': 'gpt-3.5-turbo-0125', 'system_fingerprint': None, 'id': 'chatcmpl-CPSXzhGnZyp2P5Wu0l4jlasT0Npt4', 'service_tier': 'default', 'finish_reason': 'stop', 'logprobs': None}, id='run--df7aa36b-d249-4fec-ad89-60d7cf95c8ac-0', usage_metadata={'input_tokens': 14, 'output_tokens': 21, 'total_tokens': 35, 'input_token_details': {'audio': 0, 'cache_read': 0}, 'output_token_details': {'audio': 0, 'reasoning': 0}})}, next=('explain_node',), config={'configurable': {'thread_id': '1', 'checkpoint_ns': '', 'checkpoint_id': '1f0a699b-fb13-6fd6-8002-666b91ebf292'}}, metadata={'source': 'loop', 'step': 2, 'parents': {}}, created_at='2025-10-11T11:59:32.475675+00:00', parent_config={'configurable': {'thread_id': '1', 'checkpoint_ns': '', 'checkpoint_id': '1f0a699b-cfc1-6cf2-8001-004dff1ea0cb'}}, tasks=(PregelTask(id='4675fe9e-1b68-6884-dd9f-fb12dd25a8fe', name='explain_node', path=('__pregel_pull', 'explain_node'), error=None, interrupts=(), state=None, result={'explanation': AIMessage(content='The joke is playing on the idea that mountains have peaks, so the mountain in Nepal wouldn\\'t get lonely because it has so many peaks to keep it company. It\\'s a pun on the word \"peaks,\" which can mean both the top of a mountain and spending time with someone.', additional_kwargs={'refusal': None}, response_metadata={'token_usage': {'completion_tokens': 58, 'prompt_tokens': 290, 'total_tokens': 348, 'completion_tokens_details': {'accepted_prediction_tokens': 0, 'audio_tokens': 0, 'reasoning_tokens': 0, 'rejected_prediction_tokens': 0}, 'prompt_tokens_details': {'audio_tokens': 0, 'cached_tokens': 0}}, 'model_name': 'gpt-3.5-turbo-0125', 'system_fingerprint': None, 'id': 'chatcmpl-CPSY1WKnY7Emxae7t8VoyVLhqbMOd', 'service_tier': 'default', 'finish_reason': 'stop', 'logprobs': None}, id='run--420e889c-a31c-4c78-b986-e46a35a665f4-0', usage_metadata={'input_tokens': 290, 'output_tokens': 58, 'total_tokens': 348, 'input_token_details': {'audio': 0, 'cache_read': 0}, 'output_token_details': {'audio': 0, 'reasoning': 0}})}),), interrupts=()),\n",
       " StateSnapshot(values={'topic': 'Nepal'}, next=('joke_node',), config={'configurable': {'thread_id': '1', 'checkpoint_ns': '', 'checkpoint_id': '1f0a699b-cfc1-6cf2-8001-004dff1ea0cb'}}, metadata={'source': 'loop', 'step': 1, 'parents': {}}, created_at='2025-10-11T11:59:27.933143+00:00', parent_config={'configurable': {'thread_id': '1', 'checkpoint_ns': '', 'checkpoint_id': '1f0a699b-cfbd-66e8-8000-abcdfef96683'}}, tasks=(PregelTask(id='76e16a41-2773-eaef-57bb-303d7be6e9c2', name='joke_node', path=('__pregel_pull', 'joke_node'), error=None, interrupts=(), state=None, result={'joke': AIMessage(content='Why did the mountain in Nepal never get lonely?\\nBecause it had so many peaks to hang out with!', additional_kwargs={'refusal': None}, response_metadata={'token_usage': {'completion_tokens': 21, 'prompt_tokens': 14, 'total_tokens': 35, 'completion_tokens_details': {'accepted_prediction_tokens': 0, 'audio_tokens': 0, 'reasoning_tokens': 0, 'rejected_prediction_tokens': 0}, 'prompt_tokens_details': {'audio_tokens': 0, 'cached_tokens': 0}}, 'model_name': 'gpt-3.5-turbo-0125', 'system_fingerprint': None, 'id': 'chatcmpl-CPSXzhGnZyp2P5Wu0l4jlasT0Npt4', 'service_tier': 'default', 'finish_reason': 'stop', 'logprobs': None}, id='run--df7aa36b-d249-4fec-ad89-60d7cf95c8ac-0', usage_metadata={'input_tokens': 14, 'output_tokens': 21, 'total_tokens': 35, 'input_token_details': {'audio': 0, 'cache_read': 0}, 'output_token_details': {'audio': 0, 'reasoning': 0}})}),), interrupts=()),\n",
       " StateSnapshot(values={}, next=('__start__',), config={'configurable': {'thread_id': '1', 'checkpoint_ns': '', 'checkpoint_id': '1f0a699b-cfbd-66e8-8000-abcdfef96683'}}, metadata={'source': 'input', 'step': 0, 'parents': {}}, created_at='2025-10-11T11:59:27.931337+00:00', parent_config={'configurable': {'thread_id': '1', 'checkpoint_ns': '', 'checkpoint_id': '1f0a6998-e6ee-6eb4-bfff-8da3bb0d89b8'}}, tasks=(PregelTask(id='98aac755-8ddd-1e14-4892-cf9f3504d586', name='__start__', path=('__pregel_pull', '__start__'), error=None, interrupts=(), state=None, result={'topic': 'Nepal'}),), interrupts=()),\n",
       " StateSnapshot(values={}, next=('__start__',), config={'configurable': {'thread_id': '1', 'checkpoint_ns': '', 'checkpoint_id': '1f0a6998-e6ee-6eb4-bfff-8da3bb0d89b8'}}, metadata={'source': 'input', 'step': -1, 'parents': {}}, created_at='2025-10-11T11:58:09.832710+00:00', parent_config=None, tasks=(PregelTask(id='b4eb3dfb-a7d9-ae66-6fd2-0834adceff5e', name='__start__', path=('__pregel_pull', '__start__'), error='InvalidUpdateError(\"Expected dict, got [{\\'topic\\': \\'Nepal\\'}]\\\\nFor troubleshooting, visit: https://python.langchain.com/docs/troubleshooting/errors/INVALID_GRAPH_NODE_RETURN_VALUE\")', interrupts=(), state=None, result=None),), interrupts=())]"
      ]
     },
     "execution_count": 28,
     "metadata": {},
     "output_type": "execute_result"
    }
   ],
   "source": [
    "list(workflow.get_state_history(config=config)) # get the value of state{topic , joke , explanation} before each node"
   ]
  },
  {
   "cell_type": "code",
   "execution_count": 29,
   "id": "2207e153",
   "metadata": {},
   "outputs": [
    {
     "data": {
      "text/plain": [
       "{'topic': 'Nepal',\n",
       " 'joke': AIMessage(content='Why did the mountain climber blush in Nepal?\\n\\nBecause he saw the peak of Mount Everest and it took his breath away!', additional_kwargs={'refusal': None}, response_metadata={'token_usage': {'completion_tokens': 25, 'prompt_tokens': 14, 'total_tokens': 39, 'completion_tokens_details': {'accepted_prediction_tokens': 0, 'audio_tokens': 0, 'reasoning_tokens': 0, 'rejected_prediction_tokens': 0}, 'prompt_tokens_details': {'audio_tokens': 0, 'cached_tokens': 0}}, 'model_name': 'gpt-3.5-turbo-0125', 'system_fingerprint': None, 'id': 'chatcmpl-CPSb4yex9R5YuM0i9xxhU0RywD8fJ', 'service_tier': 'default', 'finish_reason': 'stop', 'logprobs': None}, id='run--aab48bf8-dd77-4300-9c56-620c1fdf2c83-0', usage_metadata={'input_tokens': 14, 'output_tokens': 25, 'total_tokens': 39, 'input_token_details': {'audio': 0, 'cache_read': 0}, 'output_token_details': {'audio': 0, 'reasoning': 0}}),\n",
       " 'explanation': AIMessage(content='The joke plays on the idea of the mountain climber blushing because he is overwhelmed by the beauty of Mount Everest. The punchline \"it took his breath away\" is a play on words, as it can mean both that he was amazed by the sight and that he was physically out of breath due to the high altitude of the peak.', additional_kwargs={'refusal': None}, response_metadata={'token_usage': {'completion_tokens': 69, 'prompt_tokens': 296, 'total_tokens': 365, 'completion_tokens_details': {'accepted_prediction_tokens': 0, 'audio_tokens': 0, 'reasoning_tokens': 0, 'rejected_prediction_tokens': 0}, 'prompt_tokens_details': {'audio_tokens': 0, 'cached_tokens': 0}}, 'model_name': 'gpt-3.5-turbo-0125', 'system_fingerprint': None, 'id': 'chatcmpl-CPSb6DG7tfe1Q5QUbbWROHtbq7ybR', 'service_tier': 'default', 'finish_reason': 'stop', 'logprobs': None}, id='run--616b6350-803b-46cb-82e4-b1aac22f3b81-0', usage_metadata={'input_tokens': 296, 'output_tokens': 69, 'total_tokens': 365, 'input_token_details': {'audio': 0, 'cache_read': 0}, 'output_token_details': {'audio': 0, 'reasoning': 0}})}"
      ]
     },
     "execution_count": 29,
     "metadata": {},
     "output_type": "execute_result"
    }
   ],
   "source": [
    "config2 = {'configurable':{'thread_id':'2'}}\n",
    "workflow.invoke({'topic':'Nepal'},config=config2)"
   ]
  },
  {
   "cell_type": "code",
   "execution_count": 30,
   "id": "55729e6f",
   "metadata": {},
   "outputs": [
    {
     "data": {
      "text/plain": [
       "[StateSnapshot(values={'topic': 'Nepal', 'joke': AIMessage(content='Why did the mountain climber blush in Nepal?\\n\\nBecause he saw the peak of Mount Everest and it took his breath away!', additional_kwargs={'refusal': None}, response_metadata={'token_usage': {'completion_tokens': 25, 'prompt_tokens': 14, 'total_tokens': 39, 'completion_tokens_details': {'accepted_prediction_tokens': 0, 'audio_tokens': 0, 'reasoning_tokens': 0, 'rejected_prediction_tokens': 0}, 'prompt_tokens_details': {'audio_tokens': 0, 'cached_tokens': 0}}, 'model_name': 'gpt-3.5-turbo-0125', 'system_fingerprint': None, 'id': 'chatcmpl-CPSb4yex9R5YuM0i9xxhU0RywD8fJ', 'service_tier': 'default', 'finish_reason': 'stop', 'logprobs': None}, id='run--aab48bf8-dd77-4300-9c56-620c1fdf2c83-0', usage_metadata={'input_tokens': 14, 'output_tokens': 25, 'total_tokens': 39, 'input_token_details': {'audio': 0, 'cache_read': 0}, 'output_token_details': {'audio': 0, 'reasoning': 0}}), 'explanation': AIMessage(content='The joke plays on the idea of the mountain climber blushing because he is overwhelmed by the beauty of Mount Everest. The punchline \"it took his breath away\" is a play on words, as it can mean both that he was amazed by the sight and that he was physically out of breath due to the high altitude of the peak.', additional_kwargs={'refusal': None}, response_metadata={'token_usage': {'completion_tokens': 69, 'prompt_tokens': 296, 'total_tokens': 365, 'completion_tokens_details': {'accepted_prediction_tokens': 0, 'audio_tokens': 0, 'reasoning_tokens': 0, 'rejected_prediction_tokens': 0}, 'prompt_tokens_details': {'audio_tokens': 0, 'cached_tokens': 0}}, 'model_name': 'gpt-3.5-turbo-0125', 'system_fingerprint': None, 'id': 'chatcmpl-CPSb6DG7tfe1Q5QUbbWROHtbq7ybR', 'service_tier': 'default', 'finish_reason': 'stop', 'logprobs': None}, id='run--616b6350-803b-46cb-82e4-b1aac22f3b81-0', usage_metadata={'input_tokens': 296, 'output_tokens': 69, 'total_tokens': 365, 'input_token_details': {'audio': 0, 'cache_read': 0}, 'output_token_details': {'audio': 0, 'reasoning': 0}})}, next=(), config={'configurable': {'thread_id': '2', 'checkpoint_ns': '', 'checkpoint_id': '1f0a69a3-2aa9-6d66-8002-4fb011b48bcc'}}, metadata={'source': 'loop', 'step': 2, 'parents': {}}, created_at='2025-10-11T12:02:45.370151+00:00', parent_config={'configurable': {'thread_id': '2', 'checkpoint_ns': '', 'checkpoint_id': '1f0a69a3-1024-657c-8001-8c09adab236c'}}, tasks=(), interrupts=()),\n",
       " StateSnapshot(values={'topic': 'Nepal', 'joke': AIMessage(content='Why did the mountain climber blush in Nepal?\\n\\nBecause he saw the peak of Mount Everest and it took his breath away!', additional_kwargs={'refusal': None}, response_metadata={'token_usage': {'completion_tokens': 25, 'prompt_tokens': 14, 'total_tokens': 39, 'completion_tokens_details': {'accepted_prediction_tokens': 0, 'audio_tokens': 0, 'reasoning_tokens': 0, 'rejected_prediction_tokens': 0}, 'prompt_tokens_details': {'audio_tokens': 0, 'cached_tokens': 0}}, 'model_name': 'gpt-3.5-turbo-0125', 'system_fingerprint': None, 'id': 'chatcmpl-CPSb4yex9R5YuM0i9xxhU0RywD8fJ', 'service_tier': 'default', 'finish_reason': 'stop', 'logprobs': None}, id='run--aab48bf8-dd77-4300-9c56-620c1fdf2c83-0', usage_metadata={'input_tokens': 14, 'output_tokens': 25, 'total_tokens': 39, 'input_token_details': {'audio': 0, 'cache_read': 0}, 'output_token_details': {'audio': 0, 'reasoning': 0}})}, next=('explain_node',), config={'configurable': {'thread_id': '2', 'checkpoint_ns': '', 'checkpoint_id': '1f0a69a3-1024-657c-8001-8c09adab236c'}}, metadata={'source': 'loop', 'step': 1, 'parents': {}}, created_at='2025-10-11T12:02:42.589205+00:00', parent_config={'configurable': {'thread_id': '2', 'checkpoint_ns': '', 'checkpoint_id': '1f0a69a2-edea-6772-8000-42f5d8929698'}}, tasks=(PregelTask(id='bfed031b-effd-9e62-90d1-011ed326ac32', name='explain_node', path=('__pregel_pull', 'explain_node'), error=None, interrupts=(), state=None, result={'explanation': AIMessage(content='The joke plays on the idea of the mountain climber blushing because he is overwhelmed by the beauty of Mount Everest. The punchline \"it took his breath away\" is a play on words, as it can mean both that he was amazed by the sight and that he was physically out of breath due to the high altitude of the peak.', additional_kwargs={'refusal': None}, response_metadata={'token_usage': {'completion_tokens': 69, 'prompt_tokens': 296, 'total_tokens': 365, 'completion_tokens_details': {'accepted_prediction_tokens': 0, 'audio_tokens': 0, 'reasoning_tokens': 0, 'rejected_prediction_tokens': 0}, 'prompt_tokens_details': {'audio_tokens': 0, 'cached_tokens': 0}}, 'model_name': 'gpt-3.5-turbo-0125', 'system_fingerprint': None, 'id': 'chatcmpl-CPSb6DG7tfe1Q5QUbbWROHtbq7ybR', 'service_tier': 'default', 'finish_reason': 'stop', 'logprobs': None}, id='run--616b6350-803b-46cb-82e4-b1aac22f3b81-0', usage_metadata={'input_tokens': 296, 'output_tokens': 69, 'total_tokens': 365, 'input_token_details': {'audio': 0, 'cache_read': 0}, 'output_token_details': {'audio': 0, 'reasoning': 0}})}),), interrupts=()),\n",
       " StateSnapshot(values={'topic': 'Nepal'}, next=('joke_node',), config={'configurable': {'thread_id': '2', 'checkpoint_ns': '', 'checkpoint_id': '1f0a69a2-edea-6772-8000-42f5d8929698'}}, metadata={'source': 'loop', 'step': 0, 'parents': {}}, created_at='2025-10-11T12:02:39.000345+00:00', parent_config={'configurable': {'thread_id': '2', 'checkpoint_ns': '', 'checkpoint_id': '1f0a69a2-ede8-606c-bfff-b0be02d9fc63'}}, tasks=(PregelTask(id='5cadfbf7-34d1-7956-9f39-38bbd8beedb3', name='joke_node', path=('__pregel_pull', 'joke_node'), error=None, interrupts=(), state=None, result={'joke': AIMessage(content='Why did the mountain climber blush in Nepal?\\n\\nBecause he saw the peak of Mount Everest and it took his breath away!', additional_kwargs={'refusal': None}, response_metadata={'token_usage': {'completion_tokens': 25, 'prompt_tokens': 14, 'total_tokens': 39, 'completion_tokens_details': {'accepted_prediction_tokens': 0, 'audio_tokens': 0, 'reasoning_tokens': 0, 'rejected_prediction_tokens': 0}, 'prompt_tokens_details': {'audio_tokens': 0, 'cached_tokens': 0}}, 'model_name': 'gpt-3.5-turbo-0125', 'system_fingerprint': None, 'id': 'chatcmpl-CPSb4yex9R5YuM0i9xxhU0RywD8fJ', 'service_tier': 'default', 'finish_reason': 'stop', 'logprobs': None}, id='run--aab48bf8-dd77-4300-9c56-620c1fdf2c83-0', usage_metadata={'input_tokens': 14, 'output_tokens': 25, 'total_tokens': 39, 'input_token_details': {'audio': 0, 'cache_read': 0}, 'output_token_details': {'audio': 0, 'reasoning': 0}})}),), interrupts=()),\n",
       " StateSnapshot(values={}, next=('__start__',), config={'configurable': {'thread_id': '2', 'checkpoint_ns': '', 'checkpoint_id': '1f0a69a2-ede8-606c-bfff-b0be02d9fc63'}}, metadata={'source': 'input', 'step': -1, 'parents': {}}, created_at='2025-10-11T12:02:38.999351+00:00', parent_config=None, tasks=(PregelTask(id='3835e9ae-e275-3f5b-56f7-1b21c35c52c4', name='__start__', path=('__pregel_pull', '__start__'), error=None, interrupts=(), state=None, result={'topic': 'Nepal'}),), interrupts=())]"
      ]
     },
     "execution_count": 30,
     "metadata": {},
     "output_type": "execute_result"
    }
   ],
   "source": [
    "list(workflow.get_state_history(config=config2))"
   ]
  },
  {
   "cell_type": "code",
   "execution_count": null,
   "id": "9ebeee3e",
   "metadata": {},
   "outputs": [],
   "source": []
  }
 ],
 "metadata": {
  "kernelspec": {
   "display_name": "myenv",
   "language": "python",
   "name": "python3"
  },
  "language_info": {
   "codemirror_mode": {
    "name": "ipython",
    "version": 3
   },
   "file_extension": ".py",
   "mimetype": "text/x-python",
   "name": "python",
   "nbconvert_exporter": "python",
   "pygments_lexer": "ipython3",
   "version": "3.13.7"
  }
 },
 "nbformat": 4,
 "nbformat_minor": 5
}
