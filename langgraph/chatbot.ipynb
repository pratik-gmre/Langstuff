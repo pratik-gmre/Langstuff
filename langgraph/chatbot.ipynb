{
 "cells": [
  {
   "cell_type": "code",
   "execution_count": 75,
   "id": "f4633417",
   "metadata": {},
   "outputs": [],
   "source": [
    "from langgraph.graph import StateGraph , START , END\n",
    "from typing import TypedDict, Annotated\n",
    "from dotenv import load_dotenv\n",
    "load_dotenv()\n",
    "from langchain_openai import ChatOpenAI\n",
    "from langchain_core.messages import BaseMessage , HumanMessage\n",
    "from langgraph.checkpoint.memory import MemorySaver"
   ]
  },
  {
   "cell_type": "code",
   "execution_count": null,
   "id": "b226b07b",
   "metadata": {},
   "outputs": [],
   "source": [
    "from langgraph.graph.message import add_messages\n",
    "class ChatState(TypedDict):\n",
    "    messages: Annotated[list[BaseMessage] , add_messages]   # basemessage means it can be  either human or ai message or system message #add message is reducer \n",
    "    \n",
    "    "
   ]
  },
  {
   "cell_type": "code",
   "execution_count": 67,
   "id": "04df7361",
   "metadata": {},
   "outputs": [],
   "source": [
    "llm = ChatOpenAI(model='gpt-4')\n",
    "\n",
    "def chat_node(state: ChatState):\n",
    "    messages = state['messages']\n",
    "    response = llm.invoke(messages)\n",
    "    \n",
    "    return {\"messages\": [response]} \n",
    "\n"
   ]
  },
  {
   "cell_type": "code",
   "execution_count": 76,
   "id": "dfcf99cd",
   "metadata": {},
   "outputs": [
    {
     "data": {
      "image/png": "[encoded data removed]",
      "text/plain": [
       "<langgraph.graph.state.CompiledStateGraph object at 0x14518b9d0>"
      ]
     },
     "execution_count": 76,
     "metadata": {},
     "output_type": "execute_result"
    }
   ],
   "source": [
    "checkpointer = MemorySaver()\n",
    "\n",
    "graph = StateGraph(ChatState)\n",
    "\n",
    "\n",
    "\n",
    "#add nodes\n",
    "graph.add_node('chat_node',chat_node)\n",
    "\n",
    "#add edges\n",
    "graph.add_edge(START , 'chat_node')\n",
    "graph.add_edge('chat_node' , END)\n",
    "\n",
    "chatbot = graph.compile(checkpointer=checkpointer)\n",
    "chatbot"
   ]
  },
  {
   "cell_type": "code",
   "execution_count": 69,
   "id": "2d062067",
   "metadata": {},
   "outputs": [
    {
     "data": {
      "text/plain": [
       "'The capital city of Nepal is Kathmandu.'"
      ]
     },
     "execution_count": 69,
     "metadata": {},
     "output_type": "execute_result"
    }
   ],
   "source": [
    "initial_state = {'messages':[HumanMessage(content='What is the capital city of Nepal')]}\n",
    "result = chatbot.invoke(initial_state)\n",
    "result['messages'][-1].content"
   ]
  },
  {
   "cell_type": "code",
   "execution_count": 77,
   "id": "5cb535df",
   "metadata": {},
   "outputs": [
    {
     "name": "stdout",
     "output_type": "stream",
     "text": [
      "User Message: hi\n",
      "AI :  Hello! How can I assist you today?\n",
      "User Message: my name is pratik\n",
      "AI :  Nice to meet you, Pratik! How can I assist you today?\n",
      "User Message: what is my name\n",
      "AI :  Your name is Pratik.\n",
      "User Message: how do you know\n",
      "AI :  You just told me a few moments ago that your name is Pratik.\n",
      "User Message: how do have memory\n",
      "AI :  As an AI developed by OpenAI, I don't actually have a memory in the same way humans do. I don't retain information from one interaction to the next for privacy reasons. However, within a single conversation, I can refer back to information previously mentioned.\n",
      "User Message: bye\n"
     ]
    }
   ],
   "source": [
    "# thread is one interaction with chatbot\n",
    "thread_id = \"1\"\n",
    "\n",
    "while True:\n",
    "    user_message = input(\"Type here : \")\n",
    "    print(\"User Message:\", user_message)\n",
    "    if user_message.strip().lower() in [\"exit\", \"quit\", \"bye\"]:\n",
    "        break\n",
    "\n",
    "    config = {\"configurable\": {\"thread_id\": thread_id}}\n",
    "\n",
    "    response = chatbot.invoke({\"messages\": [HumanMessage(content=user_message)]},config=config)\n",
    "    print(\"AI : \", response[\"messages\"][-1].content)"
   ]
  },
  {
   "cell_type": "code",
   "execution_count": 78,
   "id": "245ed925",
   "metadata": {},
   "outputs": [
    {
     "data": {
      "text/plain": [
       "StateSnapshot(values={'messages': [HumanMessage(content='hi', additional_kwargs={}, response_metadata={}, id='bd99f5db-68c7-4311-b101-6291c99c26cc'), AIMessage(content='Hello! How can I assist you today?', additional_kwargs={'refusal': None}, response_metadata={'token_usage': {'completion_tokens': 9, 'prompt_tokens': 8, 'total_tokens': 17, 'completion_tokens_details': {'accepted_prediction_tokens': 0, 'audio_tokens': 0, 'reasoning_tokens': 0, 'rejected_prediction_tokens': 0}, 'prompt_tokens_details': {'audio_tokens': 0, 'cached_tokens': 0}}, 'model_name': 'gpt-4-0613', 'system_fingerprint': None, 'id': 'chatcmpl-CPRYNuCjiqb8GCtlEFfbHGNG7WTff', 'service_tier': 'default', 'finish_reason': 'stop', 'logprobs': None}, id='run--0da06aab-c3e1-4f3f-903e-9344e576bdd6-0', usage_metadata={'input_tokens': 8, 'output_tokens': 9, 'total_tokens': 17, 'input_token_details': {'audio': 0, 'cache_read': 0}, 'output_token_details': {'audio': 0, 'reasoning': 0}}), HumanMessage(content='my name is pratik', additional_kwargs={}, response_metadata={}, id='796e82d4-2a78-4024-b45e-824c4486f187'), AIMessage(content='Nice to meet you, Pratik! How can I assist you today?', additional_kwargs={'refusal': None}, response_metadata={'token_usage': {'completion_tokens': 16, 'prompt_tokens': 30, 'total_tokens': 46, 'completion_tokens_details': {'accepted_prediction_tokens': 0, 'audio_tokens': 0, 'reasoning_tokens': 0, 'rejected_prediction_tokens': 0}, 'prompt_tokens_details': {'audio_tokens': 0, 'cached_tokens': 0}}, 'model_name': 'gpt-4-0613', 'system_fingerprint': None, 'id': 'chatcmpl-CPRYTI2bxl0xyZ2XQ24lOSYeQgJeF', 'service_tier': 'default', 'finish_reason': 'stop', 'logprobs': None}, id='run--0618aaf2-b21f-497b-af81-ae48ab4eb8d5-0', usage_metadata={'input_tokens': 30, 'output_tokens': 16, 'total_tokens': 46, 'input_token_details': {'audio': 0, 'cache_read': 0}, 'output_token_details': {'audio': 0, 'reasoning': 0}}), HumanMessage(content='what is my name', additional_kwargs={}, response_metadata={}, id='77ac63f9-4de9-4669-8720-29283103dbcf'), AIMessage(content='Your name is Pratik.', additional_kwargs={'refusal': None}, response_metadata={'token_usage': {'completion_tokens': 7, 'prompt_tokens': 58, 'total_tokens': 65, 'completion_tokens_details': {'accepted_prediction_tokens': 0, 'audio_tokens': 0, 'reasoning_tokens': 0, 'rejected_prediction_tokens': 0}, 'prompt_tokens_details': {'audio_tokens': 0, 'cached_tokens': 0}}, 'model_name': 'gpt-4-0613', 'system_fingerprint': None, 'id': 'chatcmpl-CPRYY1LPygCVMMkwKvPKRavnab9QB', 'service_tier': 'default', 'finish_reason': 'stop', 'logprobs': None}, id='run--858c2b29-238f-4034-aefe-2c64fe6d4b10-0', usage_metadata={'input_tokens': 58, 'output_tokens': 7, 'total_tokens': 65, 'input_token_details': {'audio': 0, 'cache_read': 0}, 'output_token_details': {'audio': 0, 'reasoning': 0}}), HumanMessage(content='how do you know', additional_kwargs={}, response_metadata={}, id='76c2efa5-29d2-4da8-b2be-afcdf724108c'), AIMessage(content='You just told me a few moments ago that your name is Pratik.', additional_kwargs={'refusal': None}, response_metadata={'token_usage': {'completion_tokens': 16, 'prompt_tokens': 77, 'total_tokens': 93, 'completion_tokens_details': {'accepted_prediction_tokens': 0, 'audio_tokens': 0, 'reasoning_tokens': 0, 'rejected_prediction_tokens': 0}, 'prompt_tokens_details': {'audio_tokens': 0, 'cached_tokens': 0}}, 'model_name': 'gpt-4-0613', 'system_fingerprint': None, 'id': 'chatcmpl-CPRYhO518eGu8soElXVXCP2VdYKhV', 'service_tier': 'default', 'finish_reason': 'stop', 'logprobs': None}, id='run--1ffc669a-b2a4-437e-aa13-886610499a56-0', usage_metadata={'input_tokens': 77, 'output_tokens': 16, 'total_tokens': 93, 'input_token_details': {'audio': 0, 'cache_read': 0}, 'output_token_details': {'audio': 0, 'reasoning': 0}}), HumanMessage(content='how do have memory', additional_kwargs={}, response_metadata={}, id='9085feb8-8679-455b-9fa8-ed9bb6cc3ca2'), AIMessage(content=\"As an AI developed by OpenAI, I don't actually have a memory in the same way humans do. I don't retain information from one interaction to the next for privacy reasons. However, within a single conversation, I can refer back to information previously mentioned.\", additional_kwargs={'refusal': None}, response_metadata={'token_usage': {'completion_tokens': 53, 'prompt_tokens': 105, 'total_tokens': 158, 'completion_tokens_details': {'accepted_prediction_tokens': 0, 'audio_tokens': 0, 'reasoning_tokens': 0, 'rejected_prediction_tokens': 0}, 'prompt_tokens_details': {'audio_tokens': 0, 'cached_tokens': 0}}, 'model_name': 'gpt-4-0613', 'system_fingerprint': None, 'id': 'chatcmpl-CPRYrZmFxGgm9P0sYG0K9LWvHTXTH', 'service_tier': 'default', 'finish_reason': 'stop', 'logprobs': None}, id='run--e280b372-de30-455c-a498-e0261ff56f64-0', usage_metadata={'input_tokens': 105, 'output_tokens': 53, 'total_tokens': 158, 'input_token_details': {'audio': 0, 'cache_read': 0}, 'output_token_details': {'audio': 0, 'reasoning': 0}})]}, next=(), config={'configurable': {'thread_id': '1', 'checkpoint_ns': '', 'checkpoint_id': '1f0a690e-d429-64da-800d-b46f410390d3'}}, metadata={'source': 'loop', 'step': 13, 'parents': {}}, created_at='2025-10-11T10:56:23.455031+00:00', parent_config={'configurable': {'thread_id': '1', 'checkpoint_ns': '', 'checkpoint_id': '1f0a690e-bb2f-648e-800c-7e7f987e93b9'}}, tasks=(), interrupts=())"
      ]
     },
     "execution_count": 78,
     "metadata": {},
     "output_type": "execute_result"
    }
   ],
   "source": [
    "chatbot.get_state(config=config)"
   ]
  }
 ],
 "metadata": {
  "kernelspec": {
   "display_name": "myenv",
   "language": "python",
   "name": "python3"
  },
  "language_info": {
   "codemirror_mode": {
    "name": "ipython",
    "version": 3
   },
   "file_extension": ".py",
   "mimetype": "text/x-python",
   "name": "python",
   "nbconvert_exporter": "python",
   "pygments_lexer": "ipython3",
   "version": "3.13.7"
  }
 },
 "nbformat": 4,
 "nbformat_minor": 5
}
