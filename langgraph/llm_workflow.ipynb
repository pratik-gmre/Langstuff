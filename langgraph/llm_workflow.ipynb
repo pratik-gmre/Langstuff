{
 "cells": [
  {
   "cell_type": "code",
   "execution_count": 13,
   "id": "0d0eb32b",
   "metadata": {},
   "outputs": [
    {
     "data": {
      "text/plain": [
       "True"
      ]
     },
     "execution_count": 13,
     "metadata": {},
     "output_type": "execute_result"
    }
   ],
   "source": [
    "from langgraph.graph import StateGraph , START , END\n",
    "from langchain_openai import ChatOpenAI\n",
    "from typing import TypedDict\n",
    "from dotenv import load_dotenv\n",
    "load_dotenv()"
   ]
  },
  {
   "cell_type": "code",
   "execution_count": 14,
   "id": "85feded2",
   "metadata": {},
   "outputs": [],
   "source": [
    "model = ChatOpenAI()"
   ]
  },
  {
   "cell_type": "code",
   "execution_count": 15,
   "id": "7f0b750c",
   "metadata": {},
   "outputs": [],
   "source": [
    "#create a state\n",
    "class LLMState(TypedDict):\n",
    "    question:str\n",
    "    answer:str"
   ]
  },
  {
   "cell_type": "code",
   "execution_count": 16,
   "id": "449dfed7",
   "metadata": {},
   "outputs": [],
   "source": [
    "def llm_qa(state:LLMState) -> LLMState:\n",
    "    #extract the question from state\n",
    "    question = state['question']\n",
    "    \n",
    "    prompt = f'Answer the following question: {question}'\n",
    "\n",
    "    \n",
    "    result =model.invoke(prompt)\n",
    "    state['answer'] = result.content\n",
    "    return state\n"
   ]
  },
  {
   "cell_type": "code",
   "execution_count": 17,
   "id": "30132a7d",
   "metadata": {},
   "outputs": [],
   "source": [
    "#create a state graph\n",
    "graph = StateGraph(LLMState)\n",
    "\n",
    "#add nodes \n",
    "graph.add_node('llm_qa', llm_qa)\n",
    "\n",
    "#add edges\n",
    "graph.add_edge(START, 'llm_qa')\n",
    "graph.add_edge('llm_qa', END)\n",
    "\n",
    "#compile \n",
    "workflow = graph.compile()\n"
   ]
  },
  {
   "cell_type": "code",
   "execution_count": 18,
   "id": "d5d762d6",
   "metadata": {},
   "outputs": [
    {
     "name": "stdout",
     "output_type": "stream",
     "text": [
      "{'question': 'What is the capital of Nepal?', 'answer': 'The capital of Nepal is Kathmandu.'}\n"
     ]
    }
   ],
   "source": [
    "#execute\n",
    "initial_state = {'question':'What is the capital of Nepal?'}\n",
    "\n",
    "final_state = workflow.invoke(initial_state)\n",
    "\n",
    "print(final_state)\n",
    "\n"
   ]
  }
 ],
 "metadata": {
  "kernelspec": {
   "display_name": "myenv",
   "language": "python",
   "name": "python3"
  },
  "language_info": {
   "codemirror_mode": {
    "name": "ipython",
    "version": 3
   },
   "file_extension": ".py",
   "mimetype": "text/x-python",
   "name": "python",
   "nbconvert_exporter": "python",
   "pygments_lexer": "ipython3",
   "version": "3.13.7"
  }
 },
 "nbformat": 4,
 "nbformat_minor": 5
}
