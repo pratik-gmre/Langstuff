{
 "cells": [
  {
   "cell_type": "code",
   "execution_count": 1,
   "id": "7ed4285f",
   "metadata": {},
   "outputs": [],
   "source": [
    "from typing import TypedDict\n",
    "from langgraph.graph import StateGraph\n",
    "\n"
   ]
  },
  {
   "cell_type": "code",
   "execution_count": 2,
   "id": "6fec3a52",
   "metadata": {},
   "outputs": [],
   "source": [
    "#define state\n",
    "class BMIState(TypedDict):\n",
    "    weight:float\n",
    "    height:float\n",
    "    bmi:float"
   ]
  },
  {
   "cell_type": "code",
   "execution_count": null,
   "id": "7ff12cde",
   "metadata": {},
   "outputs": [],
   "source": [
    "#define your graph\n",
    "graph = StateGraph(BMIState)\n",
    "\n",
    "\n",
    "#nodes in the graph\n",
    "graph.add_node('weight')\n",
    "graph.add_node('height')\n",
    "graph.add_node('bmi')\n",
    "\n",
    "#edges in the graph\n",
    "graph.add_edge('weight', 'bmi')\n",
    "graph.add_edge('height', 'bmi')\n",
    "\n"
   ]
  }
 ],
 "metadata": {
  "kernelspec": {
   "display_name": "myenv",
   "language": "python",
   "name": "python3"
  },
  "language_info": {
   "codemirror_mode": {
    "name": "ipython",
    "version": 3
   },
   "file_extension": ".py",
   "mimetype": "text/x-python",
   "name": "python",
   "nbconvert_exporter": "python",
   "pygments_lexer": "ipython3",
   "version": "3.13.7"
  }
 },
 "nbformat": 4,
 "nbformat_minor": 5
}
